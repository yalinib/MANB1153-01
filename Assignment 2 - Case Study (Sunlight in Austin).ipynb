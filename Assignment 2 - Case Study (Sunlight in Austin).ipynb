{
 "cells": [
  {
   "cell_type": "markdown",
   "metadata": {},
   "source": [
    "# ASSIGNMENT 2\n",
    "# Case Study - Sunlight in Austin"
   ]
  },
  {
   "cell_type": "markdown",
   "metadata": {},
   "source": [
    "## Master of Science Business Intelligence and Analytics\n",
    "## Semester 2 Session 2017/2018"
   ]
  },
  {
   "cell_type": "markdown",
   "metadata": {},
   "source": [
    "### Data Mining and Business Analytics (MANB1153)\n",
    "\n",
    "### Yalini Bavan (MAN171006)"
   ]
  },
  {
   "cell_type": "markdown",
   "metadata": {},
   "source": [
    "# Introduction"
   ]
  },
  {
   "cell_type": "markdown",
   "metadata": {},
   "source": [
    "In this assignment pandas is been used to manipulate the data into a form usable for analysis, and then systematically explore it using the techniques in python.\n",
    "\n",
    "The dataset used is the real-world weather and climate data from years 2011 and 2010. "
   ]
  },
  {
   "cell_type": "markdown",
   "metadata": {},
   "source": [
    "## 1. Reading in a data file"
   ]
  },
  {
   "cell_type": "markdown",
   "metadata": {},
   "source": [
    "The problem with 'data.csv' file is that it is almost never formatted in a convenient way. There are several problems to overcome in reading the file. First, there is no header, and thus the columns don't have labels. There is also no obvious index column, since none of the data columns contain a full date or time."
   ]
  },
  {
   "cell_type": "markdown",
   "metadata": {},
   "source": [
    "First we read the file into a DataFrame using the default arguments. After inspecting it, will re-read the file specifying that there are no headers supplied."
   ]
  },
  {
   "cell_type": "code",
   "execution_count": 2,
   "metadata": {},
   "outputs": [],
   "source": [
    "# Import pandas\n",
    "import pandas as pd"
   ]
  },
  {
   "cell_type": "code",
   "execution_count": 11,
   "metadata": {},
   "outputs": [],
   "source": [
    "# Read the file 'data.csv' into a DataFrame called df\n",
    "df = pd.read_csv('NOAA_QCLCD_2011_hourly_13904.txt')"
   ]
  },
  {
   "cell_type": "code",
   "execution_count": 12,
   "metadata": {},
   "outputs": [
    {
     "name": "stdout",
     "output_type": "stream",
     "text": [
      "   13904  20110101  0053  12  OVC045     10.00  .1  .2  .3 ...   .18  .19  \\\n",
      "0  13904  20110101   153  12  OVC049     10.00             ...              \n",
      "1  13904  20110101   253  12  OVC060     10.00             ...   030        \n",
      "2  13904  20110101   353  12  OVC065     10.00             ...              \n",
      "3  13904  20110101   453  12  BKN070     10.00             ...              \n",
      "4  13904  20110101   553  12  BKN065     10.00             ...   015        \n",
      "\n",
      "   29.95  .20  AA  .21  .22  .23 29.95.1  .24  \n",
      "0  30.01       AA                  30.02       \n",
      "1  30.01       AA                  30.02       \n",
      "2  30.03       AA                  30.04       \n",
      "3  30.04       AA                  30.04       \n",
      "4  30.06       AA                  30.06       \n",
      "\n",
      "[5 rows x 44 columns]\n"
     ]
    }
   ],
   "source": [
    "# Print the output of df.head()\n",
    "print(df.head())"
   ]
  },
  {
   "cell_type": "code",
   "execution_count": 13,
   "metadata": {},
   "outputs": [],
   "source": [
    "# Read in the data file with header=None: df_headers\n",
    "df_headers = pd.read_csv('NOAA_QCLCD_2011_hourly_13904.txt', header=None)"
   ]
  },
  {
   "cell_type": "code",
   "execution_count": 14,
   "metadata": {},
   "outputs": [
    {
     "name": "stdout",
     "output_type": "stream",
     "text": [
      "      0         1    2   3       4  5      6  7  8  9  ...   34 35     36 37  \\\n",
      "0  13904  20110101   53  12  OVC045     10.00          ...          29.95      \n",
      "1  13904  20110101  153  12  OVC049     10.00          ...          30.01      \n",
      "2  13904  20110101  253  12  OVC060     10.00          ...  030     30.01      \n",
      "3  13904  20110101  353  12  OVC065     10.00          ...          30.03      \n",
      "4  13904  20110101  453  12  BKN070     10.00          ...          30.04      \n",
      "\n",
      "   38 39 40 41     42 43  \n",
      "0  AA           29.95     \n",
      "1  AA           30.02     \n",
      "2  AA           30.02     \n",
      "3  AA           30.04     \n",
      "4  AA           30.04     \n",
      "\n",
      "[5 rows x 44 columns]\n"
     ]
    }
   ],
   "source": [
    "# Print the output of df_headers.head()\n",
    "print(df_headers.head())"
   ]
  },
  {
   "cell_type": "markdown",
   "metadata": {},
   "source": [
    "## 2. Cleaning the data"
   ]
  },
  {
   "cell_type": "markdown",
   "metadata": {},
   "source": [
    "### Re-assigning column names"
   ]
  },
  {
   "cell_type": "markdown",
   "metadata": {},
   "source": [
    "After the initial step of reading in the data, the next step is to clean and tidy it so that it is easier to work with. The cleaning process begins with re-assigning column names and dropping unnecessary columns."
   ]
  },
  {
   "cell_type": "code",
   "execution_count": 26,
   "metadata": {},
   "outputs": [],
   "source": [
    "# Read the column names from the file column_labels.txt\n",
    "with open('column_labels.txt') as file:\n",
    "    column_labels = file.read()"
   ]
  },
  {
   "cell_type": "code",
   "execution_count": 27,
   "metadata": {},
   "outputs": [],
   "source": [
    "# Split on the comma to create a list: column_labels_list\n",
    "column_labels_list = column_labels.split(',')"
   ]
  },
  {
   "cell_type": "code",
   "execution_count": 28,
   "metadata": {},
   "outputs": [],
   "source": [
    "# Assign the new column labels to the DataFrame: df.columns\n",
    "df.columns = column_labels_list"
   ]
  },
  {
   "cell_type": "code",
   "execution_count": 30,
   "metadata": {},
   "outputs": [],
   "source": [
    "# list of columns to drop has been created and assigned to list_to_drop\n",
    "list_to_drop = ['sky_conditionFlag',\n",
    " 'visibilityFlag',\n",
    " 'wx_and_obst_to_vision',\n",
    " 'wx_and_obst_to_visionFlag',\n",
    " 'dry_bulb_farenFlag',\n",
    " 'dry_bulb_celFlag',\n",
    " 'wet_bulb_farenFlag',\n",
    " 'wet_bulb_celFlag',\n",
    " 'dew_point_farenFlag',\n",
    " 'dew_point_celFlag',\n",
    " 'relative_humidityFlag',\n",
    " 'wind_speedFlag',\n",
    " 'wind_directionFlag',\n",
    " 'value_for_wind_character',\n",
    " 'value_for_wind_characterFlag',\n",
    " 'station_pressureFlag',\n",
    " 'pressure_tendencyFlag',\n",
    " 'pressure_tendency',\n",
    " 'presschange',\n",
    " 'presschangeFlag',\n",
    " 'sea_level_pressureFlag',\n",
    " 'hourly_precip',\n",
    " 'hourly_precipFlag',\n",
    " 'altimeter',\n",
    " 'record_type',\n",
    " 'altimeterFlag',\n",
    " 'junk']"
   ]
  },
  {
   "cell_type": "code",
   "execution_count": 31,
   "metadata": {},
   "outputs": [],
   "source": [
    "# Remove the appropriate columns: df_dropped\n",
    "df_dropped = df.drop(list_to_drop, axis='columns')"
   ]
  },
  {
   "cell_type": "code",
   "execution_count": 32,
   "metadata": {},
   "outputs": [
    {
     "name": "stdout",
     "output_type": "stream",
     "text": [
      "    Wban      date  Time  StationType sky_condition visibility dry_bulb_faren  \\\n",
      "0  13904  20110101   153           12        OVC049      10.00             51   \n",
      "1  13904  20110101   253           12        OVC060      10.00             51   \n",
      "2  13904  20110101   353           12        OVC065      10.00             50   \n",
      "3  13904  20110101   453           12        BKN070      10.00             50   \n",
      "4  13904  20110101   553           12        BKN065      10.00             49   \n",
      "\n",
      "  dry_bulb_cel wet_bulb_faren wet_bulb_cel dew_point_faren dew_point_cel  \\\n",
      "0         10.6             37          3.0              14         -10.0   \n",
      "1         10.6             37          2.9              13         -10.6   \n",
      "2         10.0             38          3.1              17          -8.3   \n",
      "3         10.0             37          2.8              15          -9.4   \n",
      "4          9.4             37          2.8              17          -8.3   \n",
      "\n",
      "  relative_humidity wind_speed wind_direction station_pressure  \\\n",
      "0                23         10            340            29.49   \n",
      "1                22         15            010            29.49   \n",
      "2                27          7            350            29.51   \n",
      "3                25         11            020            29.51   \n",
      "4                28          6            010            29.53   \n",
      "\n",
      "  sea_level_pressure  \n",
      "0              30.01  \n",
      "1              30.01  \n",
      "2              30.03  \n",
      "3              30.04  \n",
      "4              30.06  \n"
     ]
    }
   ],
   "source": [
    "# Print the output of df_dropped.head()\n",
    "print(df_dropped.head())"
   ]
  },
  {
   "cell_type": "markdown",
   "metadata": {},
   "source": [
    "### Cleaning and tidying datetime data"
   ]
  },
  {
   "cell_type": "markdown",
   "metadata": {},
   "source": [
    "In order to use the full power of pandas time series, DatetimeIndex must be constructed. To do so, it is necessary to clean and transform the date and time columns."
   ]
  },
  {
   "cell_type": "markdown",
   "metadata": {},
   "source": [
    "From the DataFrame df_dropped, clean up the date and Time columns and combine them into a datetime collection to be used as the Index."
   ]
  },
  {
   "cell_type": "code",
   "execution_count": 33,
   "metadata": {},
   "outputs": [],
   "source": [
    "# Convert the date column to string: df_dropped['date']\n",
    "df_dropped['date'] = df_dropped.date.astype(str)"
   ]
  },
  {
   "cell_type": "code",
   "execution_count": 34,
   "metadata": {},
   "outputs": [],
   "source": [
    "# Add leading zeros to the Time column: df_dropped['Time']\n",
    "df_dropped['Time'] = df_dropped['Time'].apply(lambda x:'{:0>4}'.format(x))"
   ]
  },
  {
   "cell_type": "code",
   "execution_count": 35,
   "metadata": {},
   "outputs": [],
   "source": [
    "# Concatenate the new date and Time columns: date_string\n",
    "date_string = df_dropped.date + df_dropped.Time"
   ]
  },
  {
   "cell_type": "code",
   "execution_count": 36,
   "metadata": {},
   "outputs": [],
   "source": [
    "# Convert the date_string Series to datetime: date_times\n",
    "date_times = pd.to_datetime(date_string, format='%Y%m%d%H%M')"
   ]
  },
  {
   "cell_type": "code",
   "execution_count": 37,
   "metadata": {},
   "outputs": [],
   "source": [
    "# Set the index to be the new date_times container: df_clean\n",
    "df_clean = df_dropped.set_index(date_times)"
   ]
  },
  {
   "cell_type": "code",
   "execution_count": 38,
   "metadata": {},
   "outputs": [
    {
     "name": "stdout",
     "output_type": "stream",
     "text": [
      "                      Wban      date  Time  StationType sky_condition  \\\n",
      "2011-01-01 01:53:00  13904  20110101  0153           12        OVC049   \n",
      "2011-01-01 02:53:00  13904  20110101  0253           12        OVC060   \n",
      "2011-01-01 03:53:00  13904  20110101  0353           12        OVC065   \n",
      "2011-01-01 04:53:00  13904  20110101  0453           12        BKN070   \n",
      "2011-01-01 05:53:00  13904  20110101  0553           12        BKN065   \n",
      "\n",
      "                    visibility dry_bulb_faren dry_bulb_cel wet_bulb_faren  \\\n",
      "2011-01-01 01:53:00      10.00             51         10.6             37   \n",
      "2011-01-01 02:53:00      10.00             51         10.6             37   \n",
      "2011-01-01 03:53:00      10.00             50         10.0             38   \n",
      "2011-01-01 04:53:00      10.00             50         10.0             37   \n",
      "2011-01-01 05:53:00      10.00             49          9.4             37   \n",
      "\n",
      "                    wet_bulb_cel dew_point_faren dew_point_cel  \\\n",
      "2011-01-01 01:53:00          3.0              14         -10.0   \n",
      "2011-01-01 02:53:00          2.9              13         -10.6   \n",
      "2011-01-01 03:53:00          3.1              17          -8.3   \n",
      "2011-01-01 04:53:00          2.8              15          -9.4   \n",
      "2011-01-01 05:53:00          2.8              17          -8.3   \n",
      "\n",
      "                    relative_humidity wind_speed wind_direction  \\\n",
      "2011-01-01 01:53:00                23         10            340   \n",
      "2011-01-01 02:53:00                22         15            010   \n",
      "2011-01-01 03:53:00                27          7            350   \n",
      "2011-01-01 04:53:00                25         11            020   \n",
      "2011-01-01 05:53:00                28          6            010   \n",
      "\n",
      "                    station_pressure sea_level_pressure  \n",
      "2011-01-01 01:53:00            29.49              30.01  \n",
      "2011-01-01 02:53:00            29.49              30.01  \n",
      "2011-01-01 03:53:00            29.51              30.03  \n",
      "2011-01-01 04:53:00            29.51              30.04  \n",
      "2011-01-01 05:53:00            29.53              30.06  \n"
     ]
    }
   ],
   "source": [
    "# Print the output of df_clean.head()\n",
    "print(df_clean.head())"
   ]
  },
  {
   "cell_type": "markdown",
   "metadata": {},
   "source": [
    "### Cleaning the numeric columns"
   ]
  },
  {
   "cell_type": "markdown",
   "metadata": {},
   "source": [
    "The numeric columns contain missing values labeled as 'M', which needs to be transformed as such that they contain only numeric values and interpret missing data as NaN."
   ]
  },
  {
   "cell_type": "markdown",
   "metadata": {},
   "source": [
    "The pandas function pd.to_numeric() is ideal for this purpose: It converts a Series of values to floating-point values. Furthermore, by specifying the keyword argument errors='coerce', it forces strings like 'M' to be interpreted as NaN."
   ]
  },
  {
   "cell_type": "code",
   "execution_count": 39,
   "metadata": {},
   "outputs": [
    {
     "name": "stdout",
     "output_type": "stream",
     "text": [
      "2011-06-20 08:27:00     M\n",
      "2011-06-20 08:28:00     M\n",
      "2011-06-20 08:29:00     M\n",
      "2011-06-20 08:30:00     M\n",
      "2011-06-20 08:31:00     M\n",
      "2011-06-20 08:32:00     M\n",
      "2011-06-20 08:33:00     M\n",
      "2011-06-20 08:34:00     M\n",
      "2011-06-20 08:35:00     M\n",
      "2011-06-20 08:53:00    83\n",
      "Name: dry_bulb_faren, dtype: object\n"
     ]
    }
   ],
   "source": [
    "# Print the dry_bulb_faren temperature between 8 AM and 9 AM on June 20, 2011\n",
    "print(df_clean.loc['June 20 2011 08:00:00':'June 20 2011 09:00:00', 'dry_bulb_faren'])"
   ]
  },
  {
   "cell_type": "code",
   "execution_count": 40,
   "metadata": {},
   "outputs": [],
   "source": [
    "# Convert the dry_bulb_faren column to numeric values: df_clean['dry_bulb_faren']\n",
    "df_clean['dry_bulb_faren'] = pd.to_numeric(df_clean['dry_bulb_faren'], errors='coerce')"
   ]
  },
  {
   "cell_type": "code",
   "execution_count": 41,
   "metadata": {},
   "outputs": [
    {
     "name": "stdout",
     "output_type": "stream",
     "text": [
      "2011-06-20 08:27:00     NaN\n",
      "2011-06-20 08:28:00     NaN\n",
      "2011-06-20 08:29:00     NaN\n",
      "2011-06-20 08:30:00     NaN\n",
      "2011-06-20 08:31:00     NaN\n",
      "2011-06-20 08:32:00     NaN\n",
      "2011-06-20 08:33:00     NaN\n",
      "2011-06-20 08:34:00     NaN\n",
      "2011-06-20 08:35:00     NaN\n",
      "2011-06-20 08:53:00    83.0\n",
      "Name: dry_bulb_faren, dtype: float64\n"
     ]
    }
   ],
   "source": [
    "# Print the transformed dry_bulb_faren temperature between 8 AM and 9 AM on June 20, 2011\n",
    "print(df_clean.loc['June 20 2011 08:00:00':'June 20 2011 09:00:00', 'dry_bulb_faren'])"
   ]
  },
  {
   "cell_type": "code",
   "execution_count": 42,
   "metadata": {},
   "outputs": [],
   "source": [
    "# Convert the wind_speed and dew_point_faren columns to numeric values\n",
    "df_clean['wind_speed'] = pd.to_numeric(df_clean['wind_speed'], errors='coerce')\n",
    "df_clean['dew_point_faren'] = pd.to_numeric(df_clean['dew_point_faren'], errors='coerce')"
   ]
  },
  {
   "cell_type": "code",
   "execution_count": 45,
   "metadata": {},
   "outputs": [
    {
     "data": {
      "text/html": [
       "<div>\n",
       "<style scoped>\n",
       "    .dataframe tbody tr th:only-of-type {\n",
       "        vertical-align: middle;\n",
       "    }\n",
       "\n",
       "    .dataframe tbody tr th {\n",
       "        vertical-align: top;\n",
       "    }\n",
       "\n",
       "    .dataframe thead th {\n",
       "        text-align: right;\n",
       "    }\n",
       "</style>\n",
       "<table border=\"1\" class=\"dataframe\">\n",
       "  <thead>\n",
       "    <tr style=\"text-align: right;\">\n",
       "      <th></th>\n",
       "      <th>Wban</th>\n",
       "      <th>date</th>\n",
       "      <th>Time</th>\n",
       "      <th>StationType</th>\n",
       "      <th>sky_condition</th>\n",
       "      <th>visibility</th>\n",
       "      <th>dry_bulb_faren</th>\n",
       "      <th>dry_bulb_cel</th>\n",
       "      <th>wet_bulb_faren</th>\n",
       "      <th>wet_bulb_cel</th>\n",
       "      <th>dew_point_faren</th>\n",
       "      <th>dew_point_cel</th>\n",
       "      <th>relative_humidity</th>\n",
       "      <th>wind_speed</th>\n",
       "      <th>wind_direction</th>\n",
       "      <th>station_pressure</th>\n",
       "      <th>sea_level_pressure</th>\n",
       "    </tr>\n",
       "  </thead>\n",
       "  <tbody>\n",
       "    <tr>\n",
       "      <th>2011-01-01 01:53:00</th>\n",
       "      <td>13904</td>\n",
       "      <td>20110101</td>\n",
       "      <td>0153</td>\n",
       "      <td>12</td>\n",
       "      <td>OVC049</td>\n",
       "      <td>10.00</td>\n",
       "      <td>51.0</td>\n",
       "      <td>10.6</td>\n",
       "      <td>37</td>\n",
       "      <td>3.0</td>\n",
       "      <td>14.0</td>\n",
       "      <td>-10.0</td>\n",
       "      <td>23</td>\n",
       "      <td>10.0</td>\n",
       "      <td>340</td>\n",
       "      <td>29.49</td>\n",
       "      <td>30.01</td>\n",
       "    </tr>\n",
       "    <tr>\n",
       "      <th>2011-01-01 02:53:00</th>\n",
       "      <td>13904</td>\n",
       "      <td>20110101</td>\n",
       "      <td>0253</td>\n",
       "      <td>12</td>\n",
       "      <td>OVC060</td>\n",
       "      <td>10.00</td>\n",
       "      <td>51.0</td>\n",
       "      <td>10.6</td>\n",
       "      <td>37</td>\n",
       "      <td>2.9</td>\n",
       "      <td>13.0</td>\n",
       "      <td>-10.6</td>\n",
       "      <td>22</td>\n",
       "      <td>15.0</td>\n",
       "      <td>010</td>\n",
       "      <td>29.49</td>\n",
       "      <td>30.01</td>\n",
       "    </tr>\n",
       "    <tr>\n",
       "      <th>2011-01-01 03:53:00</th>\n",
       "      <td>13904</td>\n",
       "      <td>20110101</td>\n",
       "      <td>0353</td>\n",
       "      <td>12</td>\n",
       "      <td>OVC065</td>\n",
       "      <td>10.00</td>\n",
       "      <td>50.0</td>\n",
       "      <td>10.0</td>\n",
       "      <td>38</td>\n",
       "      <td>3.1</td>\n",
       "      <td>17.0</td>\n",
       "      <td>-8.3</td>\n",
       "      <td>27</td>\n",
       "      <td>7.0</td>\n",
       "      <td>350</td>\n",
       "      <td>29.51</td>\n",
       "      <td>30.03</td>\n",
       "    </tr>\n",
       "    <tr>\n",
       "      <th>2011-01-01 04:53:00</th>\n",
       "      <td>13904</td>\n",
       "      <td>20110101</td>\n",
       "      <td>0453</td>\n",
       "      <td>12</td>\n",
       "      <td>BKN070</td>\n",
       "      <td>10.00</td>\n",
       "      <td>50.0</td>\n",
       "      <td>10.0</td>\n",
       "      <td>37</td>\n",
       "      <td>2.8</td>\n",
       "      <td>15.0</td>\n",
       "      <td>-9.4</td>\n",
       "      <td>25</td>\n",
       "      <td>11.0</td>\n",
       "      <td>020</td>\n",
       "      <td>29.51</td>\n",
       "      <td>30.04</td>\n",
       "    </tr>\n",
       "    <tr>\n",
       "      <th>2011-01-01 05:53:00</th>\n",
       "      <td>13904</td>\n",
       "      <td>20110101</td>\n",
       "      <td>0553</td>\n",
       "      <td>12</td>\n",
       "      <td>BKN065</td>\n",
       "      <td>10.00</td>\n",
       "      <td>49.0</td>\n",
       "      <td>9.4</td>\n",
       "      <td>37</td>\n",
       "      <td>2.8</td>\n",
       "      <td>17.0</td>\n",
       "      <td>-8.3</td>\n",
       "      <td>28</td>\n",
       "      <td>6.0</td>\n",
       "      <td>010</td>\n",
       "      <td>29.53</td>\n",
       "      <td>30.06</td>\n",
       "    </tr>\n",
       "  </tbody>\n",
       "</table>\n",
       "</div>"
      ],
      "text/plain": [
       "                      Wban      date  Time  StationType sky_condition  \\\n",
       "2011-01-01 01:53:00  13904  20110101  0153           12        OVC049   \n",
       "2011-01-01 02:53:00  13904  20110101  0253           12        OVC060   \n",
       "2011-01-01 03:53:00  13904  20110101  0353           12        OVC065   \n",
       "2011-01-01 04:53:00  13904  20110101  0453           12        BKN070   \n",
       "2011-01-01 05:53:00  13904  20110101  0553           12        BKN065   \n",
       "\n",
       "                    visibility  dry_bulb_faren dry_bulb_cel wet_bulb_faren  \\\n",
       "2011-01-01 01:53:00      10.00            51.0         10.6             37   \n",
       "2011-01-01 02:53:00      10.00            51.0         10.6             37   \n",
       "2011-01-01 03:53:00      10.00            50.0         10.0             38   \n",
       "2011-01-01 04:53:00      10.00            50.0         10.0             37   \n",
       "2011-01-01 05:53:00      10.00            49.0          9.4             37   \n",
       "\n",
       "                    wet_bulb_cel  dew_point_faren dew_point_cel  \\\n",
       "2011-01-01 01:53:00          3.0             14.0         -10.0   \n",
       "2011-01-01 02:53:00          2.9             13.0         -10.6   \n",
       "2011-01-01 03:53:00          3.1             17.0          -8.3   \n",
       "2011-01-01 04:53:00          2.8             15.0          -9.4   \n",
       "2011-01-01 05:53:00          2.8             17.0          -8.3   \n",
       "\n",
       "                    relative_humidity  wind_speed wind_direction  \\\n",
       "2011-01-01 01:53:00                23        10.0            340   \n",
       "2011-01-01 02:53:00                22        15.0            010   \n",
       "2011-01-01 03:53:00                27         7.0            350   \n",
       "2011-01-01 04:53:00                25        11.0            020   \n",
       "2011-01-01 05:53:00                28         6.0            010   \n",
       "\n",
       "                    station_pressure sea_level_pressure  \n",
       "2011-01-01 01:53:00            29.49              30.01  \n",
       "2011-01-01 02:53:00            29.49              30.01  \n",
       "2011-01-01 03:53:00            29.51              30.03  \n",
       "2011-01-01 04:53:00            29.51              30.04  \n",
       "2011-01-01 05:53:00            29.53              30.06  "
      ]
     },
     "execution_count": 45,
     "metadata": {},
     "output_type": "execute_result"
    }
   ],
   "source": [
    "df_clean.head()"
   ]
  },
  {
   "cell_type": "markdown",
   "metadata": {},
   "source": [
    "## 3. Statistical exploratory data analysis"
   ]
  },
  {
   "cell_type": "markdown",
   "metadata": {},
   "source": [
    "### Signal min, max, median"
   ]
  },
  {
   "cell_type": "markdown",
   "metadata": {},
   "source": [
    "Now that the data have been read and cleaned, next is the statistical EDA. First, analyze the 2011 Austin weather data."
   ]
  },
  {
   "cell_type": "markdown",
   "metadata": {},
   "source": [
    "Analyze the 'dry_bulb_faren' column and print the median temperatures for specific time ranges. This can be done using partial datetime string selection."
   ]
  },
  {
   "cell_type": "code",
   "execution_count": 52,
   "metadata": {},
   "outputs": [
    {
     "name": "stdout",
     "output_type": "stream",
     "text": [
      "Median of the dry_bulb_faren: 72.0\n"
     ]
    }
   ],
   "source": [
    "# Print the median of the dry_bulb_faren column\n",
    "print( \"Median of the dry_bulb_faren: \" + str(df_clean.dry_bulb_faren.median()))"
   ]
  },
  {
   "cell_type": "code",
   "execution_count": 53,
   "metadata": {},
   "outputs": [
    {
     "name": "stdout",
     "output_type": "stream",
     "text": [
      "Median of the dry_bulb_faren (between Apr-2011 to Jun-2011): 78.0\n"
     ]
    }
   ],
   "source": [
    "# Print the median of the dry_bulb_faren column for the time range '2011-Apr':'2011-Jun'\n",
    "print(\"Median of the dry_bulb_faren (between Apr-2011 to Jun-2011): \" + str(df_clean.loc['2011-Apr':'2011-Jun', 'dry_bulb_faren'].median()))"
   ]
  },
  {
   "cell_type": "code",
   "execution_count": 54,
   "metadata": {},
   "outputs": [
    {
     "name": "stdout",
     "output_type": "stream",
     "text": [
      "Median of the dry_bulb_faren (for January 2011): 48.0\n"
     ]
    }
   ],
   "source": [
    "# Print the median of the dry_bulb_faren column for the month of January\n",
    "print(\"Median of the dry_bulb_faren (for January 2011): \" + str(df_clean.loc['2011-Jan', 'dry_bulb_faren'].median()))"
   ]
  },
  {
   "cell_type": "markdown",
   "metadata": {},
   "source": [
    "### Signal variance"
   ]
  },
  {
   "cell_type": "markdown",
   "metadata": {},
   "source": [
    "###### On average, how much hotter was every day in 2011 than expected from the 30-year average?"
   ]
  },
  {
   "cell_type": "markdown",
   "metadata": {},
   "source": [
    "Compare the 2011 weather data with the 30-year normals reported in 2010. \n",
    "\n",
    "First resample df_clean and df_climate by day and aggregate the mean temperatures. \n",
    "\n",
    "Then extract the temperature related columns from each - 'dry_bulb_faren' in df_clean, and 'Temperature' in df_climate - as NumPy arrays and compute the difference."
   ]
  },
  {
   "cell_type": "markdown",
   "metadata": {},
   "source": [
    "Notice that the indexes of df_clean and df_climate are not aligned - df_clean has dates in 2011, while df_climate has dates in 2010. This is the reason to extract the temperature columns as NumPy arrays. An alternative approach is to use the pandas .reset_index() method to make sure the Series align properly."
   ]
  },
  {
   "cell_type": "code",
   "execution_count": 55,
   "metadata": {},
   "outputs": [],
   "source": [
    "# Downsample df_clean by day and aggregate by mean: daily_mean_2011\n",
    "daily_mean_2011 = df_clean.resample('D').mean()"
   ]
  },
  {
   "cell_type": "code",
   "execution_count": 56,
   "metadata": {},
   "outputs": [],
   "source": [
    "# Extract the dry_bulb_faren column from daily_mean_2011 using .values: daily_temp_2011\n",
    "daily_temp_2011 = daily_mean_2011.dry_bulb_faren.values"
   ]
  },
  {
   "cell_type": "code",
   "execution_count": 62,
   "metadata": {},
   "outputs": [
    {
     "name": "stdout",
     "output_type": "stream",
     "text": [
      "[50.13043478 39.41666667 46.84615385 53.36734694 57.96551724 46.95833333\n",
      " 51.91666667 51.81481481 43.61363636 38.27777778 34.74074074 34.04166667\n",
      " 35.875      43.29032258 46.90625    49.39473684 51.79310345 52.97619048\n",
      " 50.60714286 47.44117647 35.25       43.         44.1        47.625\n",
      " 47.83333333 42.375      49.64       53.66666667 60.65517241 67.25806452\n",
      " 62.1875     38.40625    22.125      24.03571429 26.15384615 42.33333333\n",
      " 53.64       44.8        46.28       34.08571429 29.08333333 35.08333333\n",
      " 41.29166667 52.25       53.89473684 65.52631579 66.24242424 68.5625\n",
      " 68.6969697  65.25714286 69.82758621 68.81481481 57.23076923 66.\n",
      " 70.09677419 54.75       62.82857143 72.23333333 63.2        53.375\n",
      " 56.04166667 57.67857143 65.19354839 55.96       50.16666667 58.03125\n",
      " 71.90625    58.92307692 53.125      56.91666667 64.5862069  67.8125\n",
      " 61.8125     58.         66.64864865 70.79411765 73.82758621 72.84615385\n",
      " 70.89655172 71.4516129  71.625      70.63636364 69.64       73.03333333\n",
      " 76.34482759 62.69230769 57.42857143 61.83783784 55.96153846 58.45833333\n",
      " 72.12903226 73.29032258 74.23529412 67.47222222 57.625      66.84615385\n",
      " 71.         79.22222222 76.61290323 76.85714286 70.23333333 66.8\n",
      " 68.2        75.125      70.92       61.625      66.96       79.57142857\n",
      " 80.19354839 80.         78.51515152 79.72413793 79.64285714 78.5\n",
      " 79.64516129 79.         78.32       65.04166667 70.88       79.80645161\n",
      " 73.67857143 52.21621622 58.07142857 62.83333333 68.08333333 72.51851852\n",
      " 77.2962963  81.76923077 82.19230769 80.3        78.6969697  70.48648649\n",
      " 68.90909091 68.58333333 66.91666667 72.5        72.41666667 75.51515152\n",
      " 77.63157895 80.45454545 77.37142857 81.76470588 82.18518519 83.84615385\n",
      " 86.44       79.33333333 80.         83.62962963 82.375      83.77419355\n",
      " 83.63636364 80.2972973  81.70833333 83.58333333 80.3        82.13333333\n",
      " 85.58333333 83.75       83.68       82.53571429 82.65517241 83.22580645\n",
      " 82.45714286 84.92857143 85.31034483 86.1        86.17857143 88.46153846\n",
      " 88.06666667 87.46153846 85.5862069  87.07407407 75.32432432 84.73076923\n",
      " 83.5        83.51515152 85.37931034 86.20588235 84.9375     84.08\n",
      " 84.70833333 83.41176471 84.88461538 86.76923077 85.33333333 84.79166667\n",
      " 85.75       84.66666667 86.79166667 85.39285714 84.12121212 84.375\n",
      " 85.12903226 86.07692308 86.79166667 88.41666667 86.20833333 85.66666667\n",
      " 87.16666667 84.2        84.13333333 84.35714286 85.5        85.65517241\n",
      " 85.43333333 88.29166667 88.875      88.45833333 86.53125    86.32142857\n",
      " 85.66666667 84.25925926 89.125      91.29166667 90.08333333 89.79166667\n",
      " 89.54166667 87.10714286 87.5862069  88.72       86.53125    87.10714286\n",
      " 87.80645161 89.32142857 85.90322581 88.23076923 89.91666667 88.44\n",
      " 86.19230769 88.29166667 91.19230769 89.5        86.88461538 88.91666667\n",
      " 89.08333333 89.04166667 82.75       85.41666667 91.83333333 93.375\n",
      " 93.70833333 88.20833333 86.79166667 85.25       88.58333333 87.54166667\n",
      " 89.08333333 79.46153846 71.25       72.875      75.70833333 76.\n",
      " 76.91666667 81.875      84.54166667 87.8        85.625      82.45833333\n",
      " 78.8125     76.46428571 77.21052632 78.27586207 75.91666667 79.88\n",
      " 80.08333333 76.08333333 77.41666667 86.95833333 83.70833333 83.8125\n",
      " 81.33333333 80.6        78.08333333 70.32       68.375      70.08333333\n",
      " 68.70833333 74.         77.25925926 80.90322581 77.375      65.71111111\n",
      " 68.66666667 72.125      74.5        72.625      67.45833333 69.58333333\n",
      " 68.53571429 70.86666667 65.33333333 59.91666667 58.79166667 68.33333333\n",
      " 72.25       72.41666667 72.08333333 70.05128205 70.58064516 63.81081081\n",
      " 54.28       51.625      55.68       61.33333333 64.58333333 68.21212121\n",
      " 50.625      46.08333333 59.84       74.67857143 74.8        67.78125\n",
      " 55.83333333 51.66666667 50.45833333 66.29166667 71.66666667 75.\n",
      " 69.06818182 64.8        52.         57.42307692 73.08571429 78.16129032\n",
      " 75.02631579 62.70967742 57.25       57.20833333 60.24324324 59.83333333\n",
      " 46.70833333 43.66666667 47.29166667 46.66666667 55.20689655 59.2745098\n",
      " 64.43243243 50.46296296 42.09375    35.74074074 34.91666667 39.\n",
      " 48.26190476 49.6        48.95833333 54.40740741 63.73333333 70.80555556\n",
      " 58.21428571 50.89285714 52.125      55.21428571 64.625      52.75862069\n",
      " 46.84615385 50.61764706 43.42307692 43.25806452 44.23529412 47.19354839\n",
      " 44.83333333 45.75       50.32       52.54166667 54.45833333]\n",
      "Length of daily_temp_2011 array is: 365\n"
     ]
    }
   ],
   "source": [
    "# Check the values in daily_temp_2011 and length of the array\n",
    "print (daily_temp_2011)\n",
    "print (\"Length of daily_temp_2011 array is: \" + str(len(daily_temp_2011)))"
   ]
  },
  {
   "cell_type": "code",
   "execution_count": 63,
   "metadata": {},
   "outputs": [],
   "source": [
    "# Read the file data2010.csv and store in the DataFrame df_climate\n",
    "df_climate = pd.read_csv('data2010.csv')"
   ]
  },
  {
   "cell_type": "code",
   "execution_count": 65,
   "metadata": {},
   "outputs": [],
   "source": [
    "# Convert Date column .to_datetime()\n",
    "df_climate.Date = pd.to_datetime(df_climate.Date)"
   ]
  },
  {
   "cell_type": "code",
   "execution_count": 67,
   "metadata": {},
   "outputs": [],
   "source": [
    "# Set the index for time series: df_climate\n",
    "df_climate.set_index(df_climate.Date, inplace = True)"
   ]
  },
  {
   "cell_type": "code",
   "execution_count": 68,
   "metadata": {},
   "outputs": [],
   "source": [
    "# Save df_climate_2010 copy for using later\n",
    "df_climate_2010 = df_climate.copy()"
   ]
  },
  {
   "cell_type": "code",
   "execution_count": 72,
   "metadata": {},
   "outputs": [
    {
     "name": "stdout",
     "output_type": "stream",
     "text": [
      "<class 'pandas.core.frame.DataFrame'>\n",
      "DatetimeIndex: 8759 entries, 2010-01-01 00:00:00 to 2010-12-31 23:00:00\n",
      "Data columns (total 4 columns):\n",
      "Temperature    8759 non-null float64\n",
      "DewPoint       8759 non-null float64\n",
      "Pressure       8759 non-null float64\n",
      "Date           8759 non-null datetime64[ns]\n",
      "dtypes: datetime64[ns](1), float64(3)\n",
      "memory usage: 342.1 KB\n"
     ]
    }
   ],
   "source": [
    "# View the columns in df_climate\n",
    "df_climate.info()"
   ]
  },
  {
   "cell_type": "code",
   "execution_count": 73,
   "metadata": {},
   "outputs": [
    {
     "data": {
      "text/html": [
       "<div>\n",
       "<style scoped>\n",
       "    .dataframe tbody tr th:only-of-type {\n",
       "        vertical-align: middle;\n",
       "    }\n",
       "\n",
       "    .dataframe tbody tr th {\n",
       "        vertical-align: top;\n",
       "    }\n",
       "\n",
       "    .dataframe thead th {\n",
       "        text-align: right;\n",
       "    }\n",
       "</style>\n",
       "<table border=\"1\" class=\"dataframe\">\n",
       "  <thead>\n",
       "    <tr style=\"text-align: right;\">\n",
       "      <th></th>\n",
       "      <th>Temperature</th>\n",
       "      <th>DewPoint</th>\n",
       "      <th>Pressure</th>\n",
       "      <th>Date</th>\n",
       "    </tr>\n",
       "    <tr>\n",
       "      <th>Date</th>\n",
       "      <th></th>\n",
       "      <th></th>\n",
       "      <th></th>\n",
       "      <th></th>\n",
       "    </tr>\n",
       "  </thead>\n",
       "  <tbody>\n",
       "    <tr>\n",
       "      <th>2010-01-01 00:00:00</th>\n",
       "      <td>46.2</td>\n",
       "      <td>37.5</td>\n",
       "      <td>1.0</td>\n",
       "      <td>2010-01-01 00:00:00</td>\n",
       "    </tr>\n",
       "    <tr>\n",
       "      <th>2010-01-01 01:00:00</th>\n",
       "      <td>44.6</td>\n",
       "      <td>37.1</td>\n",
       "      <td>1.0</td>\n",
       "      <td>2010-01-01 01:00:00</td>\n",
       "    </tr>\n",
       "    <tr>\n",
       "      <th>2010-01-01 02:00:00</th>\n",
       "      <td>44.1</td>\n",
       "      <td>36.9</td>\n",
       "      <td>1.0</td>\n",
       "      <td>2010-01-01 02:00:00</td>\n",
       "    </tr>\n",
       "    <tr>\n",
       "      <th>2010-01-01 03:00:00</th>\n",
       "      <td>43.8</td>\n",
       "      <td>36.9</td>\n",
       "      <td>1.0</td>\n",
       "      <td>2010-01-01 03:00:00</td>\n",
       "    </tr>\n",
       "    <tr>\n",
       "      <th>2010-01-01 04:00:00</th>\n",
       "      <td>43.5</td>\n",
       "      <td>36.8</td>\n",
       "      <td>1.0</td>\n",
       "      <td>2010-01-01 04:00:00</td>\n",
       "    </tr>\n",
       "  </tbody>\n",
       "</table>\n",
       "</div>"
      ],
      "text/plain": [
       "                     Temperature  DewPoint  Pressure                Date\n",
       "Date                                                                    \n",
       "2010-01-01 00:00:00         46.2      37.5       1.0 2010-01-01 00:00:00\n",
       "2010-01-01 01:00:00         44.6      37.1       1.0 2010-01-01 01:00:00\n",
       "2010-01-01 02:00:00         44.1      36.9       1.0 2010-01-01 02:00:00\n",
       "2010-01-01 03:00:00         43.8      36.9       1.0 2010-01-01 03:00:00\n",
       "2010-01-01 04:00:00         43.5      36.8       1.0 2010-01-01 04:00:00"
      ]
     },
     "execution_count": 73,
     "metadata": {},
     "output_type": "execute_result"
    }
   ],
   "source": [
    "# View the first 5 rows of DataFrame df_climate\n",
    "df_climate.head()"
   ]
  },
  {
   "cell_type": "code",
   "execution_count": 74,
   "metadata": {},
   "outputs": [],
   "source": [
    "# Downsample df_climate by day and aggregate by mean: daily_climate\n",
    "daily_climate = df_climate.resample('D').mean()"
   ]
  },
  {
   "cell_type": "code",
   "execution_count": 75,
   "metadata": {},
   "outputs": [],
   "source": [
    "# Extract the Temperature column from daily_climate using .reset_index(): daily_temp_climate\n",
    "daily_temp_climate = daily_climate.reset_index().Temperature.values"
   ]
  },
  {
   "cell_type": "code",
   "execution_count": 77,
   "metadata": {},
   "outputs": [
    {
     "name": "stdout",
     "output_type": "stream",
     "text": [
      "[49.3375     49.79583333 49.9        49.72916667 49.84166667 49.67916667\n",
      " 49.49166667 49.36666667 49.35416667 49.35416667 49.24583333 49.27916667\n",
      " 49.275      49.15833333 49.15416667 49.24583333 49.2        49.37083333\n",
      " 49.64583333 49.74583333 50.16666667 50.60833333 50.82083333 50.85\n",
      " 50.97083333 51.11666667 51.14583333 51.22083333 51.23333333 51.13333333\n",
      " 51.17083333 51.31666667 51.4625     51.4875     51.36666667 51.275\n",
      " 51.25833333 51.50833333 51.9        52.0125     52.25833333 52.64166667\n",
      " 53.0125     53.575      54.15416667 54.5375     54.825      55.04583333\n",
      " 55.28333333 55.6        55.9        55.90416667 55.91666667 55.97916667\n",
      " 56.30833333 56.53333333 56.6625     56.8875     57.02916667 57.22916667\n",
      " 57.5        57.77083333 58.07916667 58.4625     58.84583333 59.05416667\n",
      " 59.42916667 59.75       59.975      60.35833333 60.68333333 60.87916667\n",
      " 61.26086957 61.04583333 61.1        61.2125     61.35       61.475\n",
      " 61.6        61.75       61.87916667 62.05       62.19166667 62.4125\n",
      " 62.59583333 62.875      63.27083333 63.6625     63.87916667 64.15\n",
      " 64.375      64.54166667 64.75416667 64.92083333 65.19583333 65.60416667\n",
      " 65.875      66.1375     66.375      66.5875     66.80833333 67.1375\n",
      " 67.40416667 67.825      68.20416667 68.6125     69.00416667 69.29166667\n",
      " 69.6625     69.9125     70.15       70.54166667 70.8625     71.07083333\n",
      " 71.25833333 71.39583333 71.4875     71.70416667 71.94166667 72.16666667\n",
      " 72.28333333 72.56666667 72.82916667 73.05       73.37916667 73.62916667\n",
      " 73.75416667 73.9375     74.14166667 74.32083333 74.49166667 74.62916667\n",
      " 74.75       74.8375     74.97083333 75.225      75.42083333 75.6625\n",
      " 75.92916667 76.1        76.225      76.37083333 76.6125     76.8375\n",
      " 77.09583333 77.45       77.77916667 78.08333333 78.37083333 78.55833333\n",
      " 78.70833333 78.83333333 79.00416667 79.19166667 79.32916667 79.55\n",
      " 79.8        80.05       80.22083333 80.39583333 80.5        80.65\n",
      " 80.8        80.94583333 81.12083333 81.225      81.32083333 81.41666667\n",
      " 81.49166667 81.60416667 81.71666667 81.80833333 81.8125     81.82916667\n",
      " 81.92916667 82.03333333 82.0875     82.07916667 82.11666667 82.17083333\n",
      " 82.225      82.275      82.34583333 82.425      82.52916667 82.64166667\n",
      " 82.7375     82.85833333 82.94583333 83.0375     83.1        83.16666667\n",
      " 83.25833333 83.30833333 83.32916667 83.4375     83.4875     83.4875\n",
      " 83.50416667 83.49583333 83.49166667 83.525      83.59583333 83.69166667\n",
      " 83.77083333 83.81666667 83.88333333 84.         84.09583333 84.1625\n",
      " 84.22083333 84.3        84.35       84.375      84.40833333 84.475\n",
      " 84.43333333 84.425      84.37916667 84.35416667 84.31666667 84.28333333\n",
      " 84.25833333 84.26666667 84.3375     84.2625     84.17083333 84.19583333\n",
      " 84.2375     84.24583333 84.27083333 84.29583333 84.22083333 84.12916667\n",
      " 83.99583333 83.8875     83.7375     83.6125     83.425      83.20833333\n",
      " 83.025      82.875      82.6625     82.42916667 82.175      81.87083333\n",
      " 81.57916667 81.35416667 81.20416667 80.9875     80.75833333 80.52083333\n",
      " 80.23333333 80.00833333 79.70416667 79.40833333 79.12083333 78.77083333\n",
      " 78.4375     78.08333333 77.70833333 77.3625     77.05833333 76.74166667\n",
      " 76.35833333 75.90833333 75.6375     75.40416667 75.20833333 75.11666667\n",
      " 74.97083333 74.70833333 74.32916667 73.9875     73.63333333 73.3\n",
      " 72.95       72.65416667 72.3        72.11666667 72.00833333 71.77083333\n",
      " 71.48333333 71.10833333 70.57916667 70.10416667 69.75       69.49583333\n",
      " 69.16666667 68.92916667 68.73333333 68.4875     68.19166667 67.9375\n",
      " 67.62083333 67.25       66.9125     66.5875     66.07083333 65.62083333\n",
      " 65.1875     64.84166667 64.45833333 64.1625     63.90416667 63.73333333\n",
      " 63.53333333 63.1875     62.85833333 62.51666667 62.36666667 62.13333333\n",
      " 61.7        61.43333333 61.49166667 61.42083333 61.10833333 60.9\n",
      " 60.83333333 60.67083333 60.175      59.7875     59.66666667 59.34583333\n",
      " 58.93333333 58.48333333 57.92083333 57.55833333 57.3625     56.94166667\n",
      " 56.43333333 56.1        55.8125     55.36666667 55.00833333 54.85833333\n",
      " 54.54583333 54.19583333 53.8375     53.5875     53.28333333 53.0375\n",
      " 52.77083333 52.40833333 52.08333333 51.95416667 51.92083333 51.775\n",
      " 51.37083333 50.88333333 50.4375     49.89166667 49.47916667 49.43333333\n",
      " 49.35833333 49.21666667 49.17916667 49.3        49.3125     49.21666667\n",
      " 49.20416667 48.97916667 48.80416667 49.00833333 49.19583333]\n",
      "Length of daily_temp_climate array is: 365\n"
     ]
    }
   ],
   "source": [
    "# Check the values in daily_temp_climate and length of the array\n",
    "print (daily_temp_climate)\n",
    "print (\"Length of daily_temp_climate array is: \" + str(len(daily_temp_climate)))"
   ]
  },
  {
   "cell_type": "markdown",
   "metadata": {},
   "source": [
    "With the 30 years daily average temperature (daily_temp_climate) and 2011 daily average temperature (daily_temp_2011) data, we have to calculate the mean difference to answer the above question. "
   ]
  },
  {
   "cell_type": "code",
   "execution_count": 81,
   "metadata": {},
   "outputs": [
    {
     "name": "stdout",
     "output_type": "stream",
     "text": [
      "The mean of difference between daily_temp_2011 and daily_temp_climate is : 1.3300839215698725\n"
     ]
    }
   ],
   "source": [
    "# Compute the difference between the two arrays and print the mean difference\n",
    "difference = daily_temp_2011 - daily_temp_climate\n",
    "print(\"The mean of difference between daily_temp_2011 and daily_temp_climate is : \" + str(difference.mean()))"
   ]
  },
  {
   "cell_type": "markdown",
   "metadata": {},
   "source": [
    "As calculated above, the average daily temperature in 2011 is 1.33 fahrenheit higher than expected from the 30 year average. "
   ]
  },
  {
   "cell_type": "markdown",
   "metadata": {},
   "source": [
    "### Sunny or cloudy"
   ]
  },
  {
   "cell_type": "markdown",
   "metadata": {},
   "source": [
    "###### On average, how much hotter is it when the sun is shining? \n",
    "\n",
    "Compare temperatures on sunny days against temperatures on overcast days."
   ]
  },
  {
   "cell_type": "markdown",
   "metadata": {},
   "source": [
    "Use Boolean selection to filter out sunny and overcast days, and then compute the difference of the mean daily maximum temperatures between each type of day."
   ]
  },
  {
   "cell_type": "markdown",
   "metadata": {},
   "source": [
    "The column 'sky_condition' provides information about whether the day was sunny ('CLR') or overcast ('OVC')."
   ]
  },
  {
   "cell_type": "code",
   "execution_count": 82,
   "metadata": {},
   "outputs": [],
   "source": [
    "# Select days that are sunny: sunny\n",
    "sunny = df_clean.loc[df_clean['sky_condition'].str.contains('CLR')]"
   ]
  },
  {
   "cell_type": "code",
   "execution_count": 83,
   "metadata": {},
   "outputs": [],
   "source": [
    "# Select days that are overcast: overcast\n",
    "overcast = df_clean.loc[df_clean['sky_condition'].str.contains('OVC')]"
   ]
  },
  {
   "cell_type": "code",
   "execution_count": 84,
   "metadata": {},
   "outputs": [],
   "source": [
    "# Resample sunny and overcast, aggregating by maximum daily temperature\n",
    "sunny_daily_max = sunny.resample('D').max()\n",
    "overcast_daily_max = overcast.resample('D').max()"
   ]
  },
  {
   "cell_type": "code",
   "execution_count": 85,
   "metadata": {},
   "outputs": [
    {
     "name": "stdout",
     "output_type": "stream",
     "text": [
      "Wban               0.000000\n",
      "StationType        0.000000\n",
      "dry_bulb_faren     6.504304\n",
      "dew_point_faren   -4.339286\n",
      "wind_speed        -3.246062\n",
      "dtype: float64\n"
     ]
    }
   ],
   "source": [
    "# Print the difference between the mean of sunny_daily_max and overcast_daily_max\n",
    "print(sunny_daily_max.mean() - overcast_daily_max.mean())"
   ]
  },
  {
   "cell_type": "markdown",
   "metadata": {},
   "source": [
    "As calculated above, in 2011 on average, it is 6.5 fahrenheit hotter on sunny days comparing to the overcast days."
   ]
  },
  {
   "cell_type": "markdown",
   "metadata": {},
   "source": [
    "## 4. Visual exploratory data analysis"
   ]
  },
  {
   "cell_type": "markdown",
   "metadata": {},
   "source": [
    "### Weekly average temperature and visibility"
   ]
  },
  {
   "cell_type": "markdown",
   "metadata": {},
   "source": [
    "###### Is there a correlation between temperature and visibility? "
   ]
  },
  {
   "cell_type": "markdown",
   "metadata": {},
   "source": [
    "Plot the weekly average temperature and visibility as subplots. To do this, you need to first select the appropriate columns and then resample by week, aggregating the mean."
   ]
  },
  {
   "cell_type": "markdown",
   "metadata": {},
   "source": [
    "In addition to creating the subplots, you will compute the Pearson correlation coefficient using .corr(). The Pearson correlation coefficient, known also as Pearson's r, ranges from -1 (indicating total negative linear correlation) to 1 (indicating total positive linear correlation). A value close to 1 here would indicate that there is a strong correlation between temperature and visibility."
   ]
  },
  {
   "cell_type": "code",
   "execution_count": 87,
   "metadata": {},
   "outputs": [],
   "source": [
    "# Import matplotlib.pyplot as plt\n",
    "import matplotlib.pyplot as plt"
   ]
  },
  {
   "cell_type": "code",
   "execution_count": 94,
   "metadata": {},
   "outputs": [
    {
     "name": "stdout",
     "output_type": "stream",
     "text": [
      "<class 'pandas.core.frame.DataFrame'>\n",
      "DatetimeIndex: 10336 entries, 2011-01-01 01:53:00 to 2011-12-31 23:53:00\n",
      "Data columns (total 17 columns):\n",
      "Wban                  10336 non-null int64\n",
      "date                  10336 non-null object\n",
      "Time                  10336 non-null object\n",
      "StationType           10336 non-null int64\n",
      "sky_condition         10336 non-null object\n",
      "visibility            10324 non-null object\n",
      "dry_bulb_faren        10325 non-null float64\n",
      "dry_bulb_cel          10336 non-null object\n",
      "wet_bulb_faren        10336 non-null object\n",
      "wet_bulb_cel          10336 non-null object\n",
      "dew_point_faren       10322 non-null float64\n",
      "dew_point_cel         10336 non-null object\n",
      "relative_humidity     10336 non-null object\n",
      "wind_speed            10317 non-null float64\n",
      "wind_direction        10336 non-null object\n",
      "station_pressure      10336 non-null object\n",
      "sea_level_pressure    10336 non-null object\n",
      "dtypes: float64(3), int64(2), object(12)\n",
      "memory usage: 1.7+ MB\n"
     ]
    }
   ],
   "source": [
    "df_clean.info()"
   ]
  },
  {
   "cell_type": "code",
   "execution_count": 99,
   "metadata": {},
   "outputs": [],
   "source": [
    "# Convert visibility from object pd.to_numeric() on the DataFrame df_clean\n",
    "df_clean['visibility'] = pd.to_numeric(df_clean['visibility'], errors = 'coerce')"
   ]
  },
  {
   "cell_type": "code",
   "execution_count": 100,
   "metadata": {},
   "outputs": [],
   "source": [
    "# Select the visibility and dry_bulb_faren columns and resample them: weekly_mean\n",
    "weekly_mean = df_clean[['visibility', 'dry_bulb_faren']].resample('w').mean()"
   ]
  },
  {
   "cell_type": "code",
   "execution_count": 101,
   "metadata": {},
   "outputs": [
    {
     "name": "stdout",
     "output_type": "stream",
     "text": [
      "                visibility  dry_bulb_faren\n",
      "visibility         1.00000         0.49004\n",
      "dry_bulb_faren     0.49004         1.00000\n"
     ]
    }
   ],
   "source": [
    "# Print the output of weekly_mean.corr()\n",
    "print(weekly_mean.corr())"
   ]
  },
  {
   "cell_type": "code",
   "execution_count": 102,
   "metadata": {},
   "outputs": [
    {
     "data": {
      "image/png": "[encoded data removed]",
      "text/plain": [
       "<matplotlib.figure.Figure at 0xf670e48>"
      ]
     },
     "metadata": {},
     "output_type": "display_data"
    }
   ],
   "source": [
    "# Plot weekly_mean with subplots=True\n",
    "weekly_mean.plot(subplots=True)\n",
    "plt.show()"
   ]
  },
  {
   "cell_type": "markdown",
   "metadata": {},
   "source": [
    "The correlation between the temperature(dry_blub_faren) and visibility is 0.49"
   ]
  },
  {
   "cell_type": "markdown",
   "metadata": {},
   "source": [
    "### Daily hours of clear sky"
   ]
  },
  {
   "cell_type": "markdown",
   "metadata": {},
   "source": [
    "Use a box plot to visualize the fraction of days that are sunny."
   ]
  },
  {
   "cell_type": "markdown",
   "metadata": {},
   "source": [
    "The 'sky_condition' column is recorded hourly. Resample this column appropriately as such that can extract the number of sunny hours in a day and the number of total hours. Then, divide the number of sunny hours by the number of total hours, and generate a box plot of the resulting fraction."
   ]
  },
  {
   "cell_type": "code",
   "execution_count": 103,
   "metadata": {},
   "outputs": [],
   "source": [
    "# Create a Boolean Series for sunny days: sunny\n",
    "sunny = df_clean['sky_condition'].str.contains('CLR')"
   ]
  },
  {
   "cell_type": "code",
   "execution_count": 114,
   "metadata": {},
   "outputs": [
    {
     "name": "stdout",
     "output_type": "stream",
     "text": [
      "2011-01-01    11.0\n",
      "2011-01-02     7.0\n",
      "2011-01-03     3.0\n",
      "2011-01-04     0.0\n",
      "2011-01-05     1.0\n",
      "2011-01-06     6.0\n",
      "2011-01-07     4.0\n",
      "2011-01-08     6.0\n",
      "2011-01-09     0.0\n",
      "2011-01-10     0.0\n",
      "2011-01-11     3.0\n",
      "2011-01-12     0.0\n",
      "2011-01-13     0.0\n",
      "2011-01-14     0.0\n",
      "2011-01-15     0.0\n",
      "2011-01-16     0.0\n",
      "2011-01-17     2.0\n",
      "2011-01-18     7.0\n",
      "2011-01-19     0.0\n",
      "2011-01-20     6.0\n",
      "2011-01-21    10.0\n",
      "2011-01-22    21.0\n",
      "2011-01-23     6.0\n",
      "2011-01-24     1.0\n",
      "2011-01-25     8.0\n",
      "2011-01-26     8.0\n",
      "2011-01-27     3.0\n",
      "2011-01-28     1.0\n",
      "2011-01-29     0.0\n",
      "2011-01-30     3.0\n",
      "              ... \n",
      "2011-12-02     0.0\n",
      "2011-12-03     0.0\n",
      "2011-12-04     0.0\n",
      "2011-12-05     0.0\n",
      "2011-12-06     5.0\n",
      "2011-12-07    10.0\n",
      "2011-12-08     1.0\n",
      "2011-12-09     0.0\n",
      "2011-12-10     0.0\n",
      "2011-12-11     0.0\n",
      "2011-12-12     0.0\n",
      "2011-12-13     0.0\n",
      "2011-12-14     0.0\n",
      "2011-12-15     0.0\n",
      "2011-12-16     0.0\n",
      "2011-12-17     0.0\n",
      "2011-12-18     0.0\n",
      "2011-12-19     0.0\n",
      "2011-12-20     0.0\n",
      "2011-12-21     0.0\n",
      "2011-12-22    12.0\n",
      "2011-12-23     2.0\n",
      "2011-12-24     0.0\n",
      "2011-12-25     0.0\n",
      "2011-12-26     8.0\n",
      "2011-12-27    24.0\n",
      "2011-12-28     7.0\n",
      "2011-12-29    14.0\n",
      "2011-12-30    18.0\n",
      "2011-12-31    12.0\n",
      "Freq: D, Name: sky_condition, Length: 365, dtype: float64\n"
     ]
    }
   ],
   "source": [
    "# Resample the Boolean Series by day and compute the sum: sunny_hours\n",
    "sunny_hours = sunny.resample('D').sum()\n",
    "print (sunny_hours)"
   ]
  },
  {
   "cell_type": "code",
   "execution_count": 115,
   "metadata": {},
   "outputs": [
    {
     "name": "stdout",
     "output_type": "stream",
     "text": [
      "2011-01-01    23\n",
      "2011-01-02    24\n",
      "2011-01-03    26\n",
      "2011-01-04    49\n",
      "2011-01-05    29\n",
      "2011-01-06    24\n",
      "2011-01-07    24\n",
      "2011-01-08    27\n",
      "2011-01-09    44\n",
      "2011-01-10    36\n",
      "2011-01-11    27\n",
      "2011-01-12    24\n",
      "2011-01-13    24\n",
      "2011-01-14    31\n",
      "2011-01-15    32\n",
      "2011-01-16    38\n",
      "2011-01-17    29\n",
      "2011-01-18    42\n",
      "2011-01-19    28\n",
      "2011-01-20    34\n",
      "2011-01-21    24\n",
      "2011-01-22    24\n",
      "2011-01-23    30\n",
      "2011-01-24    24\n",
      "2011-01-25    24\n",
      "2011-01-26    24\n",
      "2011-01-27    25\n",
      "2011-01-28    24\n",
      "2011-01-29    29\n",
      "2011-01-30    31\n",
      "              ..\n",
      "2011-12-02    51\n",
      "2011-12-03    37\n",
      "2011-12-04    54\n",
      "2011-12-05    32\n",
      "2011-12-06    27\n",
      "2011-12-07    24\n",
      "2011-12-08    24\n",
      "2011-12-09    42\n",
      "2011-12-10    25\n",
      "2011-12-11    24\n",
      "2011-12-12    27\n",
      "2011-12-13    45\n",
      "2011-12-14    36\n",
      "2011-12-15    56\n",
      "2011-12-16    28\n",
      "2011-12-17    24\n",
      "2011-12-18    28\n",
      "2011-12-19    40\n",
      "2011-12-20    29\n",
      "2011-12-21    26\n",
      "2011-12-22    34\n",
      "2011-12-23    26\n",
      "2011-12-24    31\n",
      "2011-12-25    34\n",
      "2011-12-26    31\n",
      "2011-12-27    24\n",
      "2011-12-28    24\n",
      "2011-12-29    25\n",
      "2011-12-30    24\n",
      "2011-12-31    24\n",
      "Freq: D, Name: sky_condition, Length: 365, dtype: int64\n"
     ]
    }
   ],
   "source": [
    "# Resample the Boolean Series by day and compute the count: total_hours\n",
    "total_hours = sunny.resample('D').count()\n",
    "print (total_hours)"
   ]
  },
  {
   "cell_type": "code",
   "execution_count": 106,
   "metadata": {},
   "outputs": [],
   "source": [
    "# Divide sunny_hours by total_hours: sunny_fraction\n",
    "sunny_fraction = sunny_hours / total_hours"
   ]
  },
  {
   "cell_type": "code",
   "execution_count": 113,
   "metadata": {},
   "outputs": [
    {
     "data": {
      "image/png": "[encoded data removed]",
      "text/plain": [
       "<matplotlib.figure.Figure at 0xb776b00>"
      ]
     },
     "metadata": {},
     "output_type": "display_data"
    }
   ],
   "source": [
    "# Make a box plot of sunny_fraction\n",
    "sunny_fraction.plot(kind = 'box', subplots=True, title = 'Fraction of Sunny Days')\n",
    "plt.show()"
   ]
  },
  {
   "cell_type": "markdown",
   "metadata": {},
   "source": [
    "According to the box plot above, the median of fraction of sunny days is around 18% and almost all the valeues are under 40% of sunny days."
   ]
  },
  {
   "cell_type": "markdown",
   "metadata": {},
   "source": [
    "### Heat or humidity"
   ]
  },
  {
   "cell_type": "markdown",
   "metadata": {},
   "source": [
    "Dew point is a measure of relative humidity based on pressure and temperature. A dew point above 65 is considered uncomfortable while a temperature above 90 is also considered uncomfortable."
   ]
  },
  {
   "cell_type": "markdown",
   "metadata": {},
   "source": [
    "###### Explore the maximum temperature and dew point of each month. \n",
    "\n",
    "The columns of interest are 'dew_point_faren' and 'dry_bulb_faren'. \n",
    "\n",
    "After resampling them appropriately to get the maximum temperature and dew point in each month, generate a histogram of these values as subplots. "
   ]
  },
  {
   "cell_type": "code",
   "execution_count": 117,
   "metadata": {},
   "outputs": [],
   "source": [
    "# Resample dew_point_faren and dry_bulb_faren by Month, aggregating the maximum values: monthly_max\n",
    "monthly_max = df_clean[['dew_point_faren', 'dry_bulb_faren']].resample('m').max()"
   ]
  },
  {
   "cell_type": "code",
   "execution_count": 123,
   "metadata": {},
   "outputs": [
    {
     "data": {
      "image/png": "[encoded data removed]",
      "text/plain": [
       "<matplotlib.figure.Figure at 0xb971710>"
      ]
     },
     "metadata": {},
     "output_type": "display_data"
    }
   ],
   "source": [
    "# Generate a histogram with bins=8, alpha=0.5, subplots=True\n",
    "monthly_max.plot(kind = 'hist', bins=8, alpha=0.5, subplots = True)\n",
    "\n",
    "# Show the plot\n",
    "plt.show()"
   ]
  },
  {
   "cell_type": "markdown",
   "metadata": {},
   "source": [
    "Uncomfortably, according to the histogram above, the maximum dew point is above 65 every month."
   ]
  },
  {
   "cell_type": "markdown",
   "metadata": {},
   "source": [
    "### Probability of high temperatures"
   ]
  },
  {
   "cell_type": "markdown",
   "metadata": {},
   "source": [
    "We already know that 2011 was hotter than the climate normals for the previous thirty years. Now, compare the maximum temperature in August 2011 against that of the August 2010 climate normals. More specifically, a CDF plot is used to determine the probability of the 2011 daily maximum temperature in August being above the 2010 climate normal value. "
   ]
  },
  {
   "cell_type": "markdown",
   "metadata": {},
   "source": [
    "Select the maximum temperature in August in df_climate, and then maximum daily temperatures in August 2011. \n",
    "\n",
    "Filter out the days in August 2011 that were above the August 2010 maximum, and use this to construct a CDF plot."
   ]
  },
  {
   "cell_type": "code",
   "execution_count": 125,
   "metadata": {},
   "outputs": [
    {
     "name": "stdout",
     "output_type": "stream",
     "text": [
      "Maximum temperature in August 2010: 95.3\n"
     ]
    }
   ],
   "source": [
    "# Extract the maximum temperature in August 2010 from df_climate: august_max\n",
    "august_max = df_climate.loc['2010-Aug', 'Temperature'].max()\n",
    "print(\"Maximum temperature in August 2010: \" + str(august_max))"
   ]
  },
  {
   "cell_type": "code",
   "execution_count": 133,
   "metadata": {},
   "outputs": [
    {
     "name": "stdout",
     "output_type": "stream",
     "text": [
      "Maximum temperature in August 2011: 110.0\n"
     ]
    }
   ],
   "source": [
    "# Resample the August 2011 temperatures in df_clean by day and aggregate the maximum value: august_2011\n",
    "august_2011 = df_clean.loc['2011-Aug', 'dry_bulb_faren'].resample('D').max()\n",
    "print(\"Maximum temperature in August 2011: \" + str(august_2011.max()))"
   ]
  },
  {
   "cell_type": "code",
   "execution_count": 127,
   "metadata": {},
   "outputs": [],
   "source": [
    "# Filter out days in august_2011 where the value exceeded august_max: august_2011_high\n",
    "august_2011_high = august_2011[august_2011 > august_max]"
   ]
  },
  {
   "cell_type": "code",
   "execution_count": 131,
   "metadata": {},
   "outputs": [
    {
     "data": {
      "image/png": "[encoded data removed]",
      "text/plain": [
       "<matplotlib.figure.Figure at 0x10fe0dd8>"
      ]
     },
     "metadata": {},
     "output_type": "display_data"
    }
   ],
   "source": [
    "# Construct a CDF of august_2011_high\n",
    "august_2011_high.plot(kind = 'hist', bins = 25, normed = True, cumulative = True)\n",
    "\n",
    "# Display the plot\n",
    "plt.show()"
   ]
  },
  {
   "cell_type": "markdown",
   "metadata": {},
   "source": [
    "According to the above generated CDF, it shows that there was a 50% probability of the 2011 daily maximum temperature in August being 7 degrees above the 2010 climate normal value."
   ]
  },
  {
   "cell_type": "code",
   "execution_count": null,
   "metadata": {},
   "outputs": [],
   "source": []
  }
 ],
 "metadata": {
  "kernelspec": {
   "display_name": "Python 2",
   "language": "python",
   "name": "python2"
  },
  "language_info": {
   "codemirror_mode": {
    "name": "ipython",
    "version": 2
   },
   "file_extension": ".py",
   "mimetype": "text/x-python",
   "name": "python",
   "nbconvert_exporter": "python",
   "pygments_lexer": "ipython2",
   "version": "2.7.14"
  }
 },
 "nbformat": 4,
 "nbformat_minor": 2
}
